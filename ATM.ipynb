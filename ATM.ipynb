{
 "cells": [
  {
   "cell_type": "code",
   "execution_count": null,
   "id": "397ad870-8b1e-4eaa-8431-2eeb724be427",
   "metadata": {},
   "outputs": [
    {
     "name": "stdout",
     "output_type": "stream",
     "text": [
      "Please insert your card\n"
     ]
    },
    {
     "name": "stdin",
     "output_type": "stream",
     "text": [
      "Enter your PIN: 1234\n"
     ]
    },
    {
     "name": "stdout",
     "output_type": "stream",
     "text": [
      "\t1.Balance\n",
      "\t2.Withdrawal\n",
      "\t3.Deposit\n",
      "\t4.PIN change\n",
      "\t5.Transaction History\n",
      "\t6.Exit\n"
     ]
    },
    {
     "name": "stdin",
     "output_type": "stream",
     "text": [
      "Enter your option: 1\n"
     ]
    },
    {
     "name": "stdout",
     "output_type": "stream",
     "text": [
      "Your Balance is 10000\n",
      "**************************\n",
      "\t1.Balance\n",
      "\t2.Withdrawal\n",
      "\t3.Deposit\n",
      "\t4.PIN change\n",
      "\t5.Transaction History\n",
      "\t6.Exit\n"
     ]
    },
    {
     "name": "stdin",
     "output_type": "stream",
     "text": [
      "Enter your option: 2\n",
      "Enter amount to withdraw: 100\n"
     ]
    },
    {
     "name": "stdout",
     "output_type": "stream",
     "text": [
      "100 is debited from your account\n",
      "***********************************************\n",
      "your current balance is 9900\n",
      "*********************************\n",
      "\t1.Balance\n",
      "\t2.Withdrawal\n",
      "\t3.Deposit\n",
      "\t4.PIN change\n",
      "\t5.Transaction History\n",
      "\t6.Exit\n"
     ]
    },
    {
     "name": "stdin",
     "output_type": "stream",
     "text": [
      "Enter your option: 3\n",
      "Enter amount to deposit: 100\n"
     ]
    },
    {
     "name": "stdout",
     "output_type": "stream",
     "text": [
      "100 is credited to your account\n",
      "*********************************************\n",
      "your current balance is 10000\n",
      "*********************************\n",
      "\t1.Balance\n",
      "\t2.Withdrawal\n",
      "\t3.Deposit\n",
      "\t4.PIN change\n",
      "\t5.Transaction History\n",
      "\t6.Exit\n"
     ]
    },
    {
     "name": "stdin",
     "output_type": "stream",
     "text": [
      "Enter your option: 4\n",
      "Enter old PIN: 1234\n",
      "Enter new PIN: 2345\n"
     ]
    },
    {
     "name": "stdout",
     "output_type": "stream",
     "text": [
      "PIN has been changed!!!\n",
      "***********************\n",
      "\t1.Balance\n",
      "\t2.Withdrawal\n",
      "\t3.Deposit\n",
      "\t4.PIN change\n",
      "\t5.Transaction History\n",
      "\t6.Exit\n"
     ]
    },
    {
     "name": "stdin",
     "output_type": "stream",
     "text": [
      "Enter your option: 5\n"
     ]
    },
    {
     "name": "stdout",
     "output_type": "stream",
     "text": [
      "Transaction History:-\n",
      "*********************\n",
      "Checked account balance\n",
      "100 amount is withdrawed\n",
      "100 amount is Deposited\n",
      "PIN changed\n",
      "\t1.Balance\n",
      "\t2.Withdrawal\n",
      "\t3.Deposit\n",
      "\t4.PIN change\n",
      "\t5.Transaction History\n",
      "\t6.Exit\n"
     ]
    },
    {
     "name": "stdin",
     "output_type": "stream",
     "text": [
      "Enter your option: 8\n"
     ]
    },
    {
     "name": "stdout",
     "output_type": "stream",
     "text": [
      "Enter a valid option\n",
      "*********************\n",
      "\t1.Balance\n",
      "\t2.Withdrawal\n",
      "\t3.Deposit\n",
      "\t4.PIN change\n",
      "\t5.Transaction History\n",
      "\t6.Exit\n"
     ]
    },
    {
     "name": "stdin",
     "output_type": "stream",
     "text": [
      "Enter your option: 6\n"
     ]
    }
   ],
   "source": [
    "import time\n",
    "print(\"Please insert your card\")\n",
    "time.sleep(5)\n",
    "password=1234\n",
    "#Asking pin to enter\n",
    "pin=int(input(\"Enter your PIN:\"))\n",
    "balance = 10000\n",
    "#Creating a empty list to store transaction history\n",
    "transaction = []\n",
    "if pin == password:\n",
    "    while True:\n",
    "        print(\"WELCOME!!!\")\n",
    "        print(\"**********\")\n",
    "        #showing options\n",
    "        print(\"\\t1.Balance\\n\\t2.Withdrawal\\n\\t3.Deposit\\n\\t4.PIN change\\n\\t5.Transaction History\\n\\t6.Exit\")\n",
    "        try:\n",
    "            #Asking option\n",
    "            option = int(input(\"Enter your option:\"))\n",
    "        except:\n",
    "            print(\"Please enter valid option\")\n",
    "        if option ==1:\n",
    "            #Balance Enquiry\n",
    "            print(f\"Your Balance is {balance}\")\n",
    "            print(\"**************************\")\n",
    "            #Append the transaction history in a empyt list\n",
    "            transaction.append(\"Checked account balance\")\n",
    "        if option==2:\n",
    "            #Amount Withdraw\n",
    "            withdraw_amount = int(input(\"Enter amount to withdraw:\"))\n",
    "            balance = balance - withdraw_amount\n",
    "            print(f\"{withdraw_amount} is debited from your account\")\n",
    "            print(\"***********************************************\")\n",
    "            print(f\"your current balance is {balance}\")\n",
    "            print(\"*********************************\")\n",
    "            #Append the transaction history in a empyt list\n",
    "            transaction.append(f\"{withdraw_amount} amount is withdrawed\")\n",
    "        if option ==3:\n",
    "            #Amount Deposit\n",
    "            deposit_amount = int(input(\"Enter amount to deposit:\"))\n",
    "            balance = balance + deposit_amount\n",
    "            print(f\"{deposit_amount} is credited to your account\")\n",
    "            print(\"*********************************************\")\n",
    "            print(f\"your current balance is {balance}\")\n",
    "            print(\"*********************************\")\n",
    "            #Append the transaction history in a empyt list\n",
    "            transaction.append(f\"{deposit_amount} amount is Deposited\")\n",
    "        if option == 4:\n",
    "            #PIN change\n",
    "            old_pin = int(input(\"Enter old PIN:\"))\n",
    "            new_pin = int(input(\"Enter new PIN:\"))\n",
    "            if old_pin == pin :\n",
    "                pin = new_pin\n",
    "                print(\"PIN has been changed!!!\")\n",
    "                print(\"***********************\")\n",
    "            else :\n",
    "                print(\"Wrong PIN !!!\")\n",
    "                print(\"*************\")\n",
    "            #Append the transaction history in a empyt list\n",
    "            transaction.append(\"PIN changed\")\n",
    "        if option ==5:\n",
    "            #Transaction History\n",
    "            print(\"Transaction History:-\")\n",
    "            print(\"*********************\")\n",
    "            if transaction :\n",
    "                for i in transaction:\n",
    "                    print(i)\n",
    "            else:\n",
    "                print(\"No Transaction Yet!!!\")\n",
    "                print(\"*********************\")\n",
    "        if option == 6:\n",
    "            break\n",
    "        if option > 6:\n",
    "            print(\"Enter a valid option!!!\")\n",
    "            print(\"*********************\")\n",
    "    \n",
    "else:\n",
    "    print(\"Wrong PIN please try again\")\n",
    "    print(\"**************************\")"
   ]
  },
  {
   "cell_type": "code",
   "execution_count": 3,
   "id": "fb94111a-4ca2-4da8-a7d8-4b1738993554",
   "metadata": {},
   "outputs": [],
   "source": []
  },
  {
   "cell_type": "markdown",
   "id": "0e3398b7-00cf-4ad3-8ca1-d79f6268363b",
   "metadata": {},
   "source": []
  },
  {
   "cell_type": "markdown",
   "id": "5124b4a6-c10f-4ea9-9277-586919dc0c0d",
   "metadata": {},
   "source": []
  }
 ],
 "metadata": {
  "kernelspec": {
   "display_name": "Python 3 (ipykernel)",
   "language": "python",
   "name": "python3"
  },
  "language_info": {
   "codemirror_mode": {
    "name": "ipython",
    "version": 3
   },
   "file_extension": ".py",
   "mimetype": "text/x-python",
   "name": "python",
   "nbconvert_exporter": "python",
   "pygments_lexer": "ipython3",
   "version": "3.12.4"
  }
 },
 "nbformat": 4,
 "nbformat_minor": 5
}
